{
 "cells": [
  {
   "cell_type": "markdown",
   "id": "b39306cb-48c6-4457-a5e6-254217f2d83b",
   "metadata": {},
   "source": [
    "### Imports"
   ]
  },
  {
   "cell_type": "code",
   "execution_count": 1,
   "id": "093593f0-44ca-40e1-9dea-59a4882208ba",
   "metadata": {},
   "outputs": [
    {
     "name": "stderr",
     "output_type": "stream",
     "text": [
      "/Users/ujwalkarippalichandran/Ujwal /Masters/Sem2/NLP/Project/NLP-Project/nlp/lib/python3.12/site-packages/tqdm/auto.py:21: TqdmWarning: IProgress not found. Please update jupyter and ipywidgets. See https://ipywidgets.readthedocs.io/en/stable/user_install.html\n",
      "  from .autonotebook import tqdm as notebook_tqdm\n"
     ]
    }
   ],
   "source": [
    "import torch\n",
    "from torch.utils.data import Dataset, DataLoader\n",
    "from transformers import CLIPProcessor, CLIPModel\n",
    "from peft import get_peft_model, LoraConfig, TaskType\n",
    "from PIL import Image\n",
    "import random\n",
    "import pandas as pd\n",
    "import os\n",
    "import ast\n",
    "import numpy as np\n",
    "import pandas as pd\n",
    "import matplotlib.pyplot as plt"
   ]
  },
  {
   "cell_type": "code",
   "execution_count": 2,
   "id": "1552bef1-cec4-43b2-a6be-f5b3ead70e9e",
   "metadata": {},
   "outputs": [
    {
     "name": "stdout",
     "output_type": "stream",
     "text": [
      "1.26.4\n"
     ]
    }
   ],
   "source": [
    "import numpy as np\n",
    "print(np.__version__)"
   ]
  },
  {
   "cell_type": "code",
   "execution_count": 3,
   "id": "83ce9898-87b9-4498-92f7-58392b1bad0d",
   "metadata": {},
   "outputs": [],
   "source": [
    "from dotenv import load_dotenv\n",
    "import os\n",
    "\n",
    "load_dotenv()\n",
    "api_key = os.getenv(\"OPENROUTER_API_KEY\")"
   ]
  },
  {
   "cell_type": "markdown",
   "id": "d2cffb10-df9a-4a85-969d-c00ba2d21496",
   "metadata": {},
   "source": [
    "### API calls to DeepSeek"
   ]
  },
  {
   "cell_type": "code",
   "execution_count": null,
   "id": "e5ee189d-4d4d-42e6-858f-437ec265477d",
   "metadata": {},
   "outputs": [],
   "source": [
    "import requests\n",
    "import json\n",
    "import time\n",
    "\n",
    "def gloss_text(text, max_retries=3, retry_delay=2):\n",
    "    url = \"https://openrouter.ai/api/v1/chat/completions\"\n",
    "    headers = {\n",
    "        \"Authorization\": f\"Bearer {api_key}\",\n",
    "        \"Content-Type\": \"application/json\"\n",
    "    }\n",
    "\n",
    "    payload = {\n",
    "        \"model\": \"deepseek/deepseek-r1-zero:free\",\n",
    "        \"messages\": [\n",
    "            {\n",
    "                \"role\": \"system\",\n",
    "                \"content\": (\n",
    "                    \"You are a language expert. Your task is to convert idiomatic or figurative language into literal explanations.\\n\"\n",
    "                    \"- If the sentence contains an idiom or figurative expression, rewrite it by replacing those parts with clear, literal meanings.\\n\"\n",
    "                    \"- If it doesn't, return the sentence unchanged.\\n\"\n",
    "                    \"DO NOT explain your reasoning or provide commentary. ONLY return the final rewritten sentence.\"\n",
    "                )\n",
    "            },\n",
    "            {\n",
    "                \"role\": \"user\",\n",
    "                \"content\": text\n",
    "            }\n",
    "        ],\n",
    "        \"reasoning\": {\n",
    "            \"effort\": \"low\",\n",
    "            \"exclude\": True \n",
    "        }\n",
    "    }\n",
    "\n",
    "    for attempt in range(1, max_retries + 1):\n",
    "        try:\n",
    "            response = requests.post(url, headers=headers, data=json.dumps(payload))\n",
    "            result = response.json()\n",
    "            content = result[\"choices\"][0][\"message\"][\"content\"].strip()\n",
    "\n",
    "            if content:\n",
    "                return content\n",
    "            else:\n",
    "                print(f\"Attempt {attempt}: Empty content received. Retrying...\")\n",
    "                time.sleep(retry_delay)\n",
    "\n",
    "        except Exception as e:\n",
    "            print(f\"Attempt {attempt}: Glossing failed due to error: {e}\")\n",
    "            time.sleep(retry_delay)\n",
    "\n",
    "    print(\"Max retries reached. Returning original text.\")\n",
    "    return text\n"
   ]
  },
  {
   "cell_type": "markdown",
   "id": "ec785d10-8f53-4f66-9774-03bdaa4a65c7",
   "metadata": {},
   "source": [
    "### For glossing the sentences"
   ]
  },
  {
   "cell_type": "code",
   "execution_count": 52,
   "id": "d3a6a2ac-6300-4165-8f41-7b4cc21509c6",
   "metadata": {},
   "outputs": [],
   "source": [
    "import re\n",
    "\n",
    "def preprocess_gloss(df):\n",
    "    gloss_cache = {}\n",
    "    for _, row in df.iterrows():\n",
    "        if row[\"sentence\"] not in gloss_cache:\n",
    "            sentence = row[\"sentence\"]\n",
    "            gloss = gloss_text(sentence)\n",
    "            match = re.search(r\"\\\\boxed\\{(.+?)\\}\", gloss)\n",
    "            extracted = match.group(1).strip() if match else gloss.strip()\n",
    "            gloss_cache[sentence] = extracted if extracted != \"\" else sentence\n",
    "            print(f\"\\n Sentence: {sentence}\\n Gloss: {gloss_cache[sentence]}\\n\")\n",
    "    return gloss_cache"
   ]
  },
  {
   "cell_type": "code",
   "execution_count": null,
   "id": "64677478-8e56-450d-bbf4-611ae8f36870",
   "metadata": {
    "scrolled": true
   },
   "outputs": [],
   "source": [
    "print(gloss_text(\"Its raining cats and dogs\"))"
   ]
  },
  {
   "cell_type": "markdown",
   "id": "0ae13c30-0c1a-411d-864c-2306e691875c",
   "metadata": {},
   "source": [
    "### Load datasets"
   ]
  },
  {
   "cell_type": "code",
   "execution_count": 14,
   "id": "823179b8-8451-4eee-86c1-d335a2335e53",
   "metadata": {},
   "outputs": [],
   "source": [
    "train_df = pd.read_csv(\"train/subtask_a_train.tsv\", sep='\\t')\n",
    "dev_df = pd.read_csv(\"dev/subtask_a_dev.tsv\", sep='\\t')\n",
    "test_df = pd.read_csv(\"test/subtask_a_test.tsv\", sep='\\t')"
   ]
  },
  {
   "cell_type": "markdown",
   "id": "eef44f26-5b4f-48e1-acf9-8fd370cf67e1",
   "metadata": {},
   "source": [
    "### The following code creates gloss sentences for train, dev, test using DeepSeek"
   ]
  },
  {
   "cell_type": "code",
   "execution_count": 394,
   "id": "6eee6ffc-da33-4f21-83aa-0f3660432e13",
   "metadata": {},
   "outputs": [],
   "source": [
    "# train_df_1 = train_df[0:30]\n",
    "# train_df_2 = train_df[30:60]\n",
    "# train_df_3 = train_df[60:]\n",
    "\n",
    "# gloss_sentences_train_1 = preprocess_gloss(train_df_1)\n",
    "# gloss_sentences_train_2 = preprocess_gloss(train_df_2)\n",
    "# gloss_sentences_train_3 = preprocess_gloss(train_df_3)\n",
    "\n",
    "# with open(\"gloss_sentences_train1.json\", \"w\") as file:\n",
    "#     json.dump(gloss_sentences_train_1, file, indent=4)\n",
    "\n",
    "# with open(\"gloss_sentences_train2.json\", \"w\") as file:\n",
    "#     json.dump(gloss_sentences_train_2, file, indent=4)\n",
    "\n",
    "# with open(\"gloss_sentences_train3.json\", \"w\") as file:\n",
    "#     json.dump(gloss_sentences_train_3, file, indent=4)\n",
    "\n",
    "# with open('gloss_sentences_train1.json', 'r') as f:\n",
    "#     data1 = json.load(f)\n",
    "\n",
    "# with open('gloss_sentences_train2.json', 'r') as f:\n",
    "#     data2 = json.load(f)\n",
    "\n",
    "# with open('gloss_sentences_train3.json', 'r') as f:\n",
    "#     data3 = json.load(f)\n",
    "\n",
    "# train_data = {**data1, **data2, **data3}\n",
    "\n",
    "# with open('gloss_sentences_train.json', 'w') as file:\n",
    "#     json.dump(train_data, file, indent=4)\n",
    "\n",
    "# gloss_sentences_dev = preprocess_gloss(dev_df)\n",
    "\n",
    "# with open(\"gloss_sentences_dev.json\", \"w\") as file:\n",
    "#     json.dump(gloss_sentences_dev, file, indent=4)\n",
    "\n",
    "# gloss_sentences_test = preprocess_gloss(test_df)\n",
    "\n",
    "# with open(\"gloss_sentences_test.json\", \"w\") as file:\n",
    "#     json.dump(gloss_sentences_test, file, indent=4)"
   ]
  },
  {
   "cell_type": "markdown",
   "id": "3ea8f95d-a9eb-4611-bb96-95660cf4fabe",
   "metadata": {},
   "source": [
    "### Opening the files that have stored the gloss sentences"
   ]
  },
  {
   "cell_type": "code",
   "execution_count": 4,
   "id": "763f2815-13ed-4cbf-8c10-5992ecefb698",
   "metadata": {},
   "outputs": [],
   "source": [
    "import json\n",
    "with open(\"gloss_sentences_train.json\", \"r\") as file:\n",
    "    gloss_cache_train = json.load(file)\n",
    "\n",
    "with open(\"gloss_sentences_dev.json\", \"r\") as file:\n",
    "    gloss_cache_dev = json.load(file)\n",
    "\n",
    "with open(\"gloss_sentences_test.json\", \"r\") as file:\n",
    "    gloss_cache_test = json.load(file)"
   ]
  },
  {
   "cell_type": "markdown",
   "id": "b30003d7-3d23-40e5-ad90-905f682b5bb4",
   "metadata": {},
   "source": [
    "### Create Dataset"
   ]
  },
  {
   "cell_type": "code",
   "execution_count": 5,
   "id": "d497cb9c-c20e-42d5-ab08-dce20c6536b6",
   "metadata": {},
   "outputs": [],
   "source": [
    "class TripletDataset(Dataset):\n",
    "    def __init__(self, df, gloss_cache = None):\n",
    "        self.anchor_positive_negative_triplets = []\n",
    "        self.gloss_cache = gloss_cache\n",
    "\n",
    "        for index, row in df.iterrows():\n",
    "            expected_order = ast.literal_eval(row[\"expected_order\"])\n",
    "            for i in range(1, 5):\n",
    "                if self.gloss_cache is not None:\n",
    "                    sentence = gloss_cache[row[\"sentence\"]]\n",
    "                else:\n",
    "                    sentence = row[\"sentence\"]\n",
    "                self.anchor_positive_negative_triplets.append((\n",
    "                    sentence,\n",
    "                    os.path.join(\"train\", row[\"compound\"].replace(\"'s\", \"_s\"), expected_order[0]),\n",
    "                    os.path.join(\"train\", row[\"compound\"].replace(\"'s\", \"_s\"), expected_order[i])\n",
    "                ))\n",
    "\n",
    "    def __len__(self):\n",
    "        return len(self.anchor_positive_negative_triplets)\n",
    "\n",
    "    def __getitem__(self, idx):\n",
    "        anchor_text, pos_img_path, neg_img_path = self.anchor_positive_negative_triplets[idx]\n",
    "        pos_img = Image.open(pos_img_path).convert('RGB')\n",
    "        neg_img = Image.open(neg_img_path).convert('RGB')\n",
    "        return (anchor_text, pos_img, neg_img)"
   ]
  },
  {
   "cell_type": "markdown",
   "id": "224e0f5a-3c32-4d2d-8cb8-f9d5c722389a",
   "metadata": {},
   "source": [
    "### Triplet Loss function using cosine similarity"
   ]
  },
  {
   "cell_type": "code",
   "execution_count": 6,
   "id": "87e3033f-f8d2-46c8-86f9-393bc67a3caa",
   "metadata": {},
   "outputs": [],
   "source": [
    "def triplet_loss_cosine_similarity(anchor_embedding, positive_embedding, negative_embedding, margin=0.3):\n",
    "    pos_sim = torch.nn.functional.cosine_similarity(anchor_embedding, positive_embedding)\n",
    "    neg_sim = torch.nn.functional.cosine_similarity(anchor_embedding, negative_embedding)\n",
    "    loss = torch.relu(margin + neg_sim - pos_sim).mean()\n",
    "    return loss"
   ]
  },
  {
   "cell_type": "markdown",
   "id": "d7c0b423-b002-4bbc-92c3-c73c0071957e",
   "metadata": {},
   "source": [
    "### Triplet Loss function using euclidean distance"
   ]
  },
  {
   "cell_type": "code",
   "execution_count": 7,
   "id": "b3c691da-4b01-43ba-b0ec-7e1b64bdbe2f",
   "metadata": {},
   "outputs": [],
   "source": [
    "def triplet_loss_euclidean_distance(anchor_embedding, positive_embedding, negative_embedding, margin=0.3):\n",
    "    pos_dist = torch.nn.functional.pairwise_distance(anchor_embedding, positive_embedding, p=2)\n",
    "    neg_dist = torch.nn.functional.pairwise_distance(anchor_embedding, negative_embedding, p=2)\n",
    "    loss = torch.relu(pos_dist - neg_dist + margin).mean()\n",
    "    return loss"
   ]
  },
  {
   "cell_type": "markdown",
   "id": "8bb2a8e5-2000-4a9c-9586-8ec37c81a2d7",
   "metadata": {},
   "source": [
    "### Function to use the dataloader"
   ]
  },
  {
   "cell_type": "code",
   "execution_count": 8,
   "id": "7a0e1626-9fbb-44d3-9f86-874179b48970",
   "metadata": {},
   "outputs": [],
   "source": [
    "def train_collate_fn(batch):\n",
    "    texts = [item[0] for item in batch]\n",
    "    pos_images = [item[1] for item in batch]\n",
    "    neg_images = [item[2] for item in batch]\n",
    "\n",
    "    inputs_pos = processor(text=texts, images=pos_images, return_tensors='pt', padding=True, truncation=True)\n",
    "    inputs_neg = processor(text=texts, images=neg_images, return_tensors='pt', padding=True, truncation=True)\n",
    "    return inputs_pos, inputs_neg"
   ]
  },
  {
   "cell_type": "markdown",
   "id": "49cb2c80-6add-443f-a31e-721e295547be",
   "metadata": {},
   "source": [
    "### Function to train"
   ]
  },
  {
   "cell_type": "code",
   "execution_count": 1,
   "id": "9125aef3-d7c3-49a1-bac2-86e9622a93cf",
   "metadata": {
    "scrolled": true
   },
   "outputs": [],
   "source": [
    "from tqdm import tqdm\n",
    "import pandas as pd\n",
    "import torch\n",
    "\n",
    "def train(model, dataset, use_cosine=True, patience=3, max_epochs=25, model_name=\"model\"):\n",
    "    optimizer = torch.optim.Adam(model.parameters(), lr=0.0001)\n",
    "    loader = DataLoader(dataset, batch_size=16, shuffle=True, collate_fn=train_collate_fn)\n",
    "\n",
    "    best_dev_ndcg = 0\n",
    "    patience_counter = 0\n",
    "    best_path = f\"{model_name}_best.pt\"\n",
    "    logs = []\n",
    "\n",
    "    for epoch in range(max_epochs):\n",
    "        model.train()\n",
    "        total_loss = 0\n",
    "        pbar = tqdm(loader, desc=f\"Epoch {epoch + 1}\", leave=False)\n",
    "\n",
    "        for inputs_pos, inputs_neg in pbar:\n",
    "            outputs_pos = model(**inputs_pos)\n",
    "            outputs_neg = model(**inputs_neg)\n",
    "\n",
    "            anchor_emb = outputs_pos.text_embeds\n",
    "            pos_emb = outputs_pos.image_embeds\n",
    "            neg_emb = outputs_neg.image_embeds\n",
    "\n",
    "            if use_cosine:\n",
    "                loss = triplet_loss_cosine_similarity(anchor_emb, pos_emb, neg_emb)\n",
    "            else:\n",
    "                loss = triplet_loss_euclidean_distance(anchor_emb, pos_emb, neg_emb)\n",
    "\n",
    "            optimizer.zero_grad()\n",
    "            loss.backward()\n",
    "            optimizer.step()\n",
    "\n",
    "            total_loss += loss.item()\n",
    "            pbar.set_postfix({\"loss\": f\"{loss.item():.4f}\"})\n",
    "\n",
    "        avg_loss = total_loss / len(loader)\n",
    "        train_ndcg = calculate_ndcg_score(train_df, \"train\", model, use_cosine, gloss_cache_train)\n",
    "        dev_ndcg = calculate_ndcg_score(dev_df, \"dev\", model, use_cosine, gloss_cache_dev)\n",
    "\n",
    "        print(f\"Epoch {epoch + 1} - Avg Loss: {avg_loss:.4f} - Train NDCG: {train_ndcg:.4f} - Dev NDCG: {dev_ndcg:.4f}\")\n",
    "\n",
    "        logs.append({\n",
    "            \"epoch\": epoch + 1,\n",
    "            \"avg_loss\": avg_loss,\n",
    "            \"train_ndcg\": train_ndcg,\n",
    "            \"dev_ndcg\": dev_ndcg\n",
    "        })\n",
    "\n",
    "        if dev_ndcg > best_dev_ndcg:\n",
    "            best_dev_ndcg = dev_ndcg\n",
    "            patience_counter = 0\n",
    "            torch.save(model.state_dict(), best_path)\n",
    "        else:\n",
    "            patience_counter += 1\n",
    "            if patience_counter >= patience:\n",
    "                print(f\"Early stopping at epoch {epoch + 1} (no improvement in {patience} epochs)\")\n",
    "                break\n",
    "\n",
    "    log_df = pd.DataFrame(logs)\n",
    "    log_df.to_csv(f\"{model_name}_log.csv\", index=False)\n",
    "\n",
    "    return best_path"
   ]
  },
  {
   "cell_type": "markdown",
   "id": "90d698c3-ed0b-43ee-9839-aadab62e34a7",
   "metadata": {},
   "source": [
    "### Functions to calculate metrics"
   ]
  },
  {
   "cell_type": "code",
   "execution_count": 10,
   "id": "59295753-ca66-41ec-9cd2-7efc86a5543d",
   "metadata": {},
   "outputs": [],
   "source": [
    "def dcg(relevances):\n",
    "    relevances = np.asfarray(relevances)\n",
    "    score = relevances[0]\n",
    "    for i in range(1, len(relevances)):\n",
    "        score += relevances[i] / np.log2(i + 2)\n",
    "    return score\n",
    "\n",
    "def ndcg_score(ideal_ranking, predicted_ranking):\n",
    "    image_to_relevance_score = {}\n",
    "    \n",
    "    for i in range(0, len(ideal_ranking)):\n",
    "        image_to_relevance_score[ideal_ranking[i]] = len(ideal_ranking) - i \n",
    "\n",
    "    predicted_relevance = []\n",
    "    ideal_relevance = []\n",
    "    \n",
    "    for index in range(0, len(ideal_ranking)):\n",
    "        ideal_relevance.append(image_to_relevance_score[ideal_ranking[index]])\n",
    "        predicted_relevance.append(image_to_relevance_score[predicted_ranking[index]])\n",
    "\n",
    "    dcg_val = dcg(predicted_relevance)\n",
    "    idcg_val = dcg(ideal_relevance)\n",
    "\n",
    "    return dcg_val / idcg_val\n",
    "\n",
    "def get_predicted_ranking_cosine(model, image2image_paths, text):\n",
    "    predicted_ranking = []\n",
    "\n",
    "    for image_name, image_path in image2image_paths.items():\n",
    "        img = Image.open(image_path).convert('RGB')\n",
    "        inputs = processor(text=text, images=img, return_tensors='pt', padding=True, truncation=True)\n",
    "        outputs = model(**inputs)\n",
    "        predicted_ranking.append((image_name, \n",
    "                                  torch.nn.functional.cosine_similarity(outputs.text_embeds, \n",
    "                                                                        outputs.image_embeds).squeeze()))\n",
    "\n",
    "    predicted_ranking = reversed(sorted(predicted_ranking, key=lambda x:x[1]))\n",
    "    predicted_ranking = [x[0] for x in predicted_ranking]\n",
    "    \n",
    "    return predicted_ranking\n",
    "\n",
    "def get_predicted_ranking_euclidean(model, image2image_paths, text):\n",
    "    predicted_ranking = []\n",
    "\n",
    "    for image_name, image_path in image2image_paths.items():\n",
    "        img = Image.open(image_path).convert('RGB')\n",
    "        inputs = processor(text=text, images=img, return_tensors='pt', padding=True, truncation=True)\n",
    "        outputs = model(**inputs)\n",
    "        predicted_ranking.append((image_name, \n",
    "                                  torch.nn.functional.pairwise_distance(outputs.text_embeds, \n",
    "                                                                                   outputs.image_embeds,\n",
    "                                                                                   p=2).squeeze()))\n",
    "    predicted_ranking = sorted(predicted_ranking, key=lambda x:x[1])\n",
    "    predicted_ranking = [x[0] for x in predicted_ranking]\n",
    "    \n",
    "    return predicted_ranking"
   ]
  },
  {
   "cell_type": "markdown",
   "id": "1d71d03d-0a29-4e93-8afe-cc32d70d7928",
   "metadata": {},
   "source": [
    "### Function to calculate NDCG score"
   ]
  },
  {
   "cell_type": "code",
   "execution_count": 11,
   "id": "51d8a87d-7ff8-400c-bf3d-eb02d5a438bf",
   "metadata": {},
   "outputs": [],
   "source": [
    "def calculate_ndcg_score(df, df_type, model, use_cosine = True, gloss_cache = None):\n",
    "    model.eval()\n",
    "    scores = []\n",
    "    for index, row in df.iterrows():\n",
    "        ideal_ranking = ast.literal_eval(row[\"expected_order\"])\n",
    "\n",
    "        if gloss_cache is None:\n",
    "            text = row[\"sentence\"]\n",
    "        else:\n",
    "            text = gloss_cache[row[\"sentence\"]]\n",
    "        image_to_image_paths = {}\n",
    "\n",
    "        for image_name in ideal_ranking:\n",
    "            image_to_image_paths[image_name] = os.path.join(df_type, \n",
    "                                                            row[\"compound\"].replace(\"'s\", \"_s\"), \n",
    "                                                            image_name)\n",
    "\n",
    "        if use_cosine:\n",
    "            predicted_ranking = get_predicted_ranking_cosine(model, image_to_image_paths, text)\n",
    "        else:\n",
    "            predicted_ranking = get_predicted_ranking_euclidean(model, image_to_image_paths, text)\n",
    "            \n",
    "\n",
    "        score = ndcg_score(ideal_ranking, predicted_ranking)\n",
    "        scores.append(score)\n",
    "\n",
    "    return sum(scores)/len(scores)"
   ]
  },
  {
   "cell_type": "markdown",
   "id": "6f0d35d8-ed10-417b-b0f5-dac5ecb196e8",
   "metadata": {},
   "source": [
    "### Function to 1pc Accuracy"
   ]
  },
  {
   "cell_type": "code",
   "execution_count": 12,
   "id": "ce9ffb48-3b21-4577-b6be-43865fe3a0a0",
   "metadata": {},
   "outputs": [],
   "source": [
    "def calculate_1pc_accuracy(df, df_type, model, use_cosine = True, gloss_cache = None):\n",
    "    model.eval()\n",
    "    correct = 0\n",
    "\n",
    "    for index, row in df.iterrows():\n",
    "        ideal_ranking = ast.literal_eval(row[\"expected_order\"])\n",
    "\n",
    "        if gloss_cache is not None:\n",
    "            text = gloss_cache[row[\"sentence\"]]\n",
    "        else:\n",
    "            text = row[\"sentence\"]\n",
    "        image2image_paths = {}\n",
    "\n",
    "        for image_name in ideal_ranking:\n",
    "            image2image_paths[image_name] = os.path.join(df_type, \n",
    "                                                            row[\"compound\"].replace(\"'s\", \"_s\"), \n",
    "                                                            image_name)\n",
    "\n",
    "        if use_cosine:\n",
    "            predicted_ranking = get_predicted_ranking_cosine(model, image2image_paths, text)\n",
    "        else:\n",
    "            predicted_ranking = get_predicted_ranking_euclidean(model, image2image_paths, text)\n",
    "\n",
    "        if ideal_ranking[0] == predicted_ranking[0]:\n",
    "            correct += 1\n",
    "\n",
    "    return round(correct / len(df), 2)"
   ]
  },
  {
   "cell_type": "markdown",
   "id": "ea82ce18-c010-40ed-9372-7112c017476f",
   "metadata": {},
   "source": [
    "### Train model with rank 8 and triplet loss using cosine similarity"
   ]
  },
  {
   "cell_type": "code",
   "execution_count": 56,
   "id": "7e23aaba-40e4-4f03-af06-edec6cd69be8",
   "metadata": {},
   "outputs": [
    {
     "name": "stderr",
     "output_type": "stream",
     "text": [
      "                                                                                                                                                                                                                                                                                                                           "
     ]
    },
    {
     "name": "stdout",
     "output_type": "stream",
     "text": [
      "Epoch 1 - Avg Loss: 0.2626 - Train NDCG: 0.9502 - Dev NDCG: 0.9207\n"
     ]
    },
    {
     "name": "stderr",
     "output_type": "stream",
     "text": [
      "                                                                                                                                                                                                                                                                                                                              "
     ]
    },
    {
     "name": "stdout",
     "output_type": "stream",
     "text": [
      "Epoch 2 - Avg Loss: 0.2422 - Train NDCG: 0.9665 - Dev NDCG: 0.9217\n"
     ]
    },
    {
     "name": "stderr",
     "output_type": "stream",
     "text": [
      "                                                                                                                                                                                                                                                                                                                              "
     ]
    },
    {
     "name": "stdout",
     "output_type": "stream",
     "text": [
      "Epoch 3 - Avg Loss: 0.2076 - Train NDCG: 0.9737 - Dev NDCG: 0.9234\n"
     ]
    },
    {
     "name": "stderr",
     "output_type": "stream",
     "text": [
      "                                                                                                                                                                                                                                                                                                                              "
     ]
    },
    {
     "name": "stdout",
     "output_type": "stream",
     "text": [
      "Epoch 4 - Avg Loss: 0.1499 - Train NDCG: 0.9775 - Dev NDCG: 0.9253\n"
     ]
    },
    {
     "name": "stderr",
     "output_type": "stream",
     "text": [
      "                                                                                                                                                                                                                                                                                                                              "
     ]
    },
    {
     "name": "stdout",
     "output_type": "stream",
     "text": [
      "Epoch 5 - Avg Loss: 0.0785 - Train NDCG: 0.9807 - Dev NDCG: 0.9216\n"
     ]
    },
    {
     "name": "stderr",
     "output_type": "stream",
     "text": [
      "                                                                                                                                                                                                                                                                                                                           "
     ]
    },
    {
     "name": "stdout",
     "output_type": "stream",
     "text": [
      "Epoch 6 - Avg Loss: 0.0351 - Train NDCG: 0.9790 - Dev NDCG: 0.9185\n"
     ]
    },
    {
     "name": "stderr",
     "output_type": "stream",
     "text": [
      "                                                                                                                                                                                                                                                                                                                           "
     ]
    },
    {
     "name": "stdout",
     "output_type": "stream",
     "text": [
      "Epoch 7 - Avg Loss: 0.0146 - Train NDCG: 0.9797 - Dev NDCG: 0.9183\n",
      "Early stopping at epoch 7 (no improvement in 3 epochs)\n"
     ]
    },
    {
     "data": {
      "text/plain": [
       "'rank8_cosine_best.pt'"
      ]
     },
     "execution_count": 56,
     "metadata": {},
     "output_type": "execute_result"
    }
   ],
   "source": [
    "model = CLIPModel.from_pretrained(\"openai/clip-vit-base-patch32\")\n",
    "processor = CLIPProcessor.from_pretrained(\"openai/clip-vit-base-patch32\")\n",
    "rank = 8\n",
    "lora_config = LoraConfig(\n",
    "    r=rank,\n",
    "    lora_alpha=2*rank,\n",
    "    target_modules=[\"q_proj\", \"v_proj\"]\n",
    ")\n",
    "train_dataset = TripletDataset(train_df, gloss_cache_train)\n",
    "model1 = get_peft_model(model, lora_config)\n",
    "train(model1, train_dataset,model_name=\"rank8_cosine\")"
   ]
  },
  {
   "cell_type": "markdown",
   "id": "3b40ed52-8159-4139-b0e3-457da4a7617a",
   "metadata": {},
   "source": [
    "### Train model with rank 8 and triplet loss using euclidean distance"
   ]
  },
  {
   "cell_type": "code",
   "execution_count": null,
   "id": "9a0b166d-c282-4ef6-8a38-9f4f6b3b432b",
   "metadata": {},
   "outputs": [
    {
     "name": "stderr",
     "output_type": "stream",
     "text": [
      "                                                                                                                                                                                                                                                                                                                           "
     ]
    },
    {
     "name": "stdout",
     "output_type": "stream",
     "text": [
      "Epoch 1 - Avg Loss: 0.2703 - Train NDCG: 0.9554 - Dev NDCG: 0.9204\n"
     ]
    },
    {
     "name": "stderr",
     "output_type": "stream",
     "text": [
      "                                                                                                                                                                                                                                                                                                                              "
     ]
    },
    {
     "name": "stdout",
     "output_type": "stream",
     "text": [
      "Epoch 2 - Avg Loss: 0.2550 - Train NDCG: 0.9667 - Dev NDCG: 0.9213\n"
     ]
    },
    {
     "name": "stderr",
     "output_type": "stream",
     "text": [
      "                                                                                                                                                                                                                                                                                                                              "
     ]
    },
    {
     "name": "stdout",
     "output_type": "stream",
     "text": [
      "Epoch 3 - Avg Loss: 0.2278 - Train NDCG: 0.9745 - Dev NDCG: 0.9203\n"
     ]
    },
    {
     "name": "stderr",
     "output_type": "stream",
     "text": [
      "                                                                                                                                                                                                                                                                                                                              "
     ]
    },
    {
     "name": "stdout",
     "output_type": "stream",
     "text": [
      "Epoch 4 - Avg Loss: 0.1793 - Train NDCG: 0.9778 - Dev NDCG: 0.9231\n"
     ]
    },
    {
     "name": "stderr",
     "output_type": "stream",
     "text": [
      "                                                                                                                                                                                                                                                                                                                              "
     ]
    },
    {
     "name": "stdout",
     "output_type": "stream",
     "text": [
      "Epoch 5 - Avg Loss: 0.1164 - Train NDCG: 0.9816 - Dev NDCG: 0.9231\n"
     ]
    },
    {
     "name": "stderr",
     "output_type": "stream",
     "text": [
      "                                                                                                                                                                                                                                                                                                                              "
     ]
    },
    {
     "name": "stdout",
     "output_type": "stream",
     "text": [
      "Epoch 6 - Avg Loss: 0.0588 - Train NDCG: 0.9780 - Dev NDCG: 0.9240\n"
     ]
    },
    {
     "name": "stderr",
     "output_type": "stream",
     "text": [
      "                                                                                                                                                                                                                                                                                                                              "
     ]
    },
    {
     "name": "stdout",
     "output_type": "stream",
     "text": [
      "Epoch 7 - Avg Loss: 0.0272 - Train NDCG: 0.9789 - Dev NDCG: 0.9266\n"
     ]
    },
    {
     "name": "stderr",
     "output_type": "stream",
     "text": [
      "                                                                                                                                                                                                                                                                                                                              "
     ]
    },
    {
     "name": "stdout",
     "output_type": "stream",
     "text": [
      "Epoch 8 - Avg Loss: 0.0108 - Train NDCG: 0.9774 - Dev NDCG: 0.9189\n"
     ]
    },
    {
     "name": "stderr",
     "output_type": "stream",
     "text": [
      "Epoch 9:  22%|█████████████████████████████████████████████████████████▊                                                                                                                                                                                                          | 4/18 [00:09<00:33,  2.36s/it, loss=0.0009]"
     ]
    }
   ],
   "source": [
    "model = CLIPModel.from_pretrained(\"openai/clip-vit-base-patch32\")\n",
    "processor = CLIPProcessor.from_pretrained(\"openai/clip-vit-base-patch32\")\n",
    "rank = 8\n",
    "lora_config = LoraConfig(\n",
    "    r=rank,\n",
    "    lora_alpha=2*rank,\n",
    "    target_modules=[\"q_proj\", \"v_proj\"]\n",
    ")\n",
    "train_dataset = TripletDataset(train_df, gloss_cache_train)\n",
    "model2 = get_peft_model(model, lora_config)\n",
    "train(model2, train_dataset, use_cosine = False,model_name =\"rank8_euclidean\")"
   ]
  },
  {
   "cell_type": "code",
   "execution_count": 431,
   "id": "382132df-8ca3-4f1d-a348-667a50a7f2cc",
   "metadata": {},
   "outputs": [
    {
     "name": "stdout",
     "output_type": "stream",
     "text": [
      "Dev 1pc Accuracy: 67.0\n"
     ]
    }
   ],
   "source": [
    "acc = calculate_1pc_accuracy(dev_df, \"dev\", model2, use_cosine = False, gloss_cache = gloss_cache_dev)\n",
    "print(f\"Dev 1pc Accuracy: {acc*100}\")"
   ]
  },
  {
   "cell_type": "markdown",
   "id": "27d39d77-62e0-4e84-936a-ee0c27d061da",
   "metadata": {},
   "source": [
    "### Train model with rank 4 and triplet loss using cosine"
   ]
  },
  {
   "cell_type": "code",
   "execution_count": 54,
   "id": "2448d9c0-9bba-47c9-b20d-585a2461b43b",
   "metadata": {},
   "outputs": [
    {
     "name": "stderr",
     "output_type": "stream",
     "text": [
      "                                                                                                                                                                                                                                                                                                                              "
     ]
    },
    {
     "name": "stdout",
     "output_type": "stream",
     "text": [
      "Epoch 1 - Avg Loss: 0.2641 - Train NDCG: 0.9436 - Dev NDCG: 0.9208\n"
     ]
    },
    {
     "name": "stderr",
     "output_type": "stream",
     "text": [
      "                                                                                                                                                                                                                                                                                                                              "
     ]
    },
    {
     "name": "stdout",
     "output_type": "stream",
     "text": [
      "Epoch 2 - Avg Loss: 0.2543 - Train NDCG: 0.9543 - Dev NDCG: 0.9224\n"
     ]
    },
    {
     "name": "stderr",
     "output_type": "stream",
     "text": [
      "                                                                                                                                                                                                                                                                                                                              "
     ]
    },
    {
     "name": "stdout",
     "output_type": "stream",
     "text": [
      "Epoch 3 - Avg Loss: 0.2369 - Train NDCG: 0.9654 - Dev NDCG: 0.9235\n"
     ]
    },
    {
     "name": "stderr",
     "output_type": "stream",
     "text": [
      "                                                                                                                                                                                                                                                                                                                              "
     ]
    },
    {
     "name": "stdout",
     "output_type": "stream",
     "text": [
      "Epoch 4 - Avg Loss: 0.2078 - Train NDCG: 0.9726 - Dev NDCG: 0.9289\n"
     ]
    },
    {
     "name": "stderr",
     "output_type": "stream",
     "text": [
      "                                                                                                                                                                                                                                                                                                                              "
     ]
    },
    {
     "name": "stdout",
     "output_type": "stream",
     "text": [
      "Epoch 5 - Avg Loss: 0.1635 - Train NDCG: 0.9773 - Dev NDCG: 0.9325\n"
     ]
    },
    {
     "name": "stderr",
     "output_type": "stream",
     "text": [
      "                                                                                                                                                                                                                                                                                                                              "
     ]
    },
    {
     "name": "stdout",
     "output_type": "stream",
     "text": [
      "Epoch 6 - Avg Loss: 0.1074 - Train NDCG: 0.9781 - Dev NDCG: 0.9336\n"
     ]
    },
    {
     "name": "stderr",
     "output_type": "stream",
     "text": [
      "                                                                                                                                                                                                                                                                                                                              "
     ]
    },
    {
     "name": "stdout",
     "output_type": "stream",
     "text": [
      "Epoch 7 - Avg Loss: 0.0609 - Train NDCG: 0.9782 - Dev NDCG: 0.9322\n"
     ]
    },
    {
     "name": "stderr",
     "output_type": "stream",
     "text": [
      "                                                                                                                                                                                                                                                                                                                              "
     ]
    },
    {
     "name": "stdout",
     "output_type": "stream",
     "text": [
      "Epoch 8 - Avg Loss: 0.0326 - Train NDCG: 0.9764 - Dev NDCG: 0.9298\n"
     ]
    },
    {
     "name": "stderr",
     "output_type": "stream",
     "text": [
      "                                                                                                                                                                                                                                                                                                                              "
     ]
    },
    {
     "name": "stdout",
     "output_type": "stream",
     "text": [
      "Epoch 9 - Avg Loss: 0.0174 - Train NDCG: 0.9746 - Dev NDCG: 0.9320\n",
      "Early stopping at epoch 9 (no improvement in 3 epochs)\n"
     ]
    },
    {
     "data": {
      "text/plain": [
       "'rank4_cosine_best.pt'"
      ]
     },
     "execution_count": 54,
     "metadata": {},
     "output_type": "execute_result"
    }
   ],
   "source": [
    "model = CLIPModel.from_pretrained(\"openai/clip-vit-base-patch32\")\n",
    "processor = CLIPProcessor.from_pretrained(\"openai/clip-vit-base-patch32\")\n",
    "rank = 4\n",
    "lora_config = LoraConfig(\n",
    "    r=rank,\n",
    "    lora_alpha=2*rank,\n",
    "    target_modules=[\"q_proj\", \"v_proj\"]\n",
    ")\n",
    "train_dataset = TripletDataset(train_df, gloss_cache_train)\n",
    "model3 = get_peft_model(model, lora_config)\n",
    "train(model3, train_dataset, use_cosine = True, model_name=\"rank4_cosine\")"
   ]
  },
  {
   "cell_type": "markdown",
   "id": "630d677d-d69f-4296-b99d-b9aaa91962cd",
   "metadata": {},
   "source": [
    "### Train model with rank 4 and triplet loss using euclidean distance"
   ]
  },
  {
   "cell_type": "code",
   "execution_count": 55,
   "id": "622b0de3-14dd-4337-b911-03dc3bd2083c",
   "metadata": {},
   "outputs": [
    {
     "name": "stderr",
     "output_type": "stream",
     "text": [
      "                                                                                                                                                                                                                                                                                                                              "
     ]
    },
    {
     "name": "stdout",
     "output_type": "stream",
     "text": [
      "Epoch 1 - Avg Loss: 0.2714 - Train NDCG: 0.9452 - Dev NDCG: 0.9187\n"
     ]
    },
    {
     "name": "stderr",
     "output_type": "stream",
     "text": [
      "                                                                                                                                                                                                                                                                                                                              "
     ]
    },
    {
     "name": "stdout",
     "output_type": "stream",
     "text": [
      "Epoch 2 - Avg Loss: 0.2634 - Train NDCG: 0.9562 - Dev NDCG: 0.9216\n"
     ]
    },
    {
     "name": "stderr",
     "output_type": "stream",
     "text": [
      "                                                                                                                                                                                                                                                                                                                              "
     ]
    },
    {
     "name": "stdout",
     "output_type": "stream",
     "text": [
      "Epoch 3 - Avg Loss: 0.2496 - Train NDCG: 0.9678 - Dev NDCG: 0.9240\n"
     ]
    },
    {
     "name": "stderr",
     "output_type": "stream",
     "text": [
      "                                                                                                                                                                                                                                                                                                                              "
     ]
    },
    {
     "name": "stdout",
     "output_type": "stream",
     "text": [
      "Epoch 4 - Avg Loss: 0.2263 - Train NDCG: 0.9744 - Dev NDCG: 0.9221\n"
     ]
    },
    {
     "name": "stderr",
     "output_type": "stream",
     "text": [
      "                                                                                                                                                                                                                                                                                                                              "
     ]
    },
    {
     "name": "stdout",
     "output_type": "stream",
     "text": [
      "Epoch 5 - Avg Loss: 0.1911 - Train NDCG: 0.9765 - Dev NDCG: 0.9243\n"
     ]
    },
    {
     "name": "stderr",
     "output_type": "stream",
     "text": [
      "                                                                                                                                                                                                                                                                                                                              "
     ]
    },
    {
     "name": "stdout",
     "output_type": "stream",
     "text": [
      "Epoch 6 - Avg Loss: 0.1440 - Train NDCG: 0.9780 - Dev NDCG: 0.9236\n"
     ]
    },
    {
     "name": "stderr",
     "output_type": "stream",
     "text": [
      "                                                                                                                                                                                                                                                                                                                              "
     ]
    },
    {
     "name": "stdout",
     "output_type": "stream",
     "text": [
      "Epoch 7 - Avg Loss: 0.0918 - Train NDCG: 0.9789 - Dev NDCG: 0.9177\n"
     ]
    },
    {
     "name": "stderr",
     "output_type": "stream",
     "text": [
      "                                                                                                                                                                                                                                                                                                                           "
     ]
    },
    {
     "name": "stdout",
     "output_type": "stream",
     "text": [
      "Epoch 8 - Avg Loss: 0.0539 - Train NDCG: 0.9756 - Dev NDCG: 0.9179\n",
      "Early stopping at epoch 8 (no improvement in 3 epochs)\n"
     ]
    },
    {
     "data": {
      "text/plain": [
       "'rank4_euclidean_best.pt'"
      ]
     },
     "execution_count": 55,
     "metadata": {},
     "output_type": "execute_result"
    }
   ],
   "source": [
    "model = CLIPModel.from_pretrained(\"openai/clip-vit-base-patch32\")\n",
    "processor = CLIPProcessor.from_pretrained(\"openai/clip-vit-base-patch32\")\n",
    "rank = 4\n",
    "lora_config = LoraConfig(\n",
    "    r=rank,\n",
    "    lora_alpha=2*rank,\n",
    "    target_modules=[\"q_proj\", \"v_proj\"]\n",
    ")\n",
    "train_dataset = TripletDataset(train_df, gloss_cache_train)\n",
    "model4 = get_peft_model(model, lora_config)\n",
    "train(model4, train_dataset, use_cosine = False,model_name =\"rank4_euclidean\")"
   ]
  },
  {
   "cell_type": "markdown",
   "id": "ec90ec4d-5ff2-4455-9fd0-96a84c77f51b",
   "metadata": {},
   "source": [
    "### Train model with rank 2 and triplet loss using cosine"
   ]
  },
  {
   "cell_type": "code",
   "execution_count": 53,
   "id": "eb0efb5b-0bc3-41e2-9af5-0f09d3fd1401",
   "metadata": {},
   "outputs": [
    {
     "name": "stderr",
     "output_type": "stream",
     "text": [
      "                                                                                                                                                                                                                                                                                                                              "
     ]
    },
    {
     "name": "stdout",
     "output_type": "stream",
     "text": [
      "Epoch 1 - Avg Loss: 0.2655 - Train NDCG: 0.9427 - Dev NDCG: 0.9199\n"
     ]
    },
    {
     "name": "stderr",
     "output_type": "stream",
     "text": [
      "                                                                                                                                                                                                                                                                                                                              "
     ]
    },
    {
     "name": "stdout",
     "output_type": "stream",
     "text": [
      "Epoch 2 - Avg Loss: 0.2607 - Train NDCG: 0.9468 - Dev NDCG: 0.9211\n"
     ]
    },
    {
     "name": "stderr",
     "output_type": "stream",
     "text": [
      "                                                                                                                                                                                                                                                                                                                              "
     ]
    },
    {
     "name": "stdout",
     "output_type": "stream",
     "text": [
      "Epoch 3 - Avg Loss: 0.2537 - Train NDCG: 0.9530 - Dev NDCG: 0.9224\n"
     ]
    },
    {
     "name": "stderr",
     "output_type": "stream",
     "text": [
      "                                                                                                                                                                                                                                                                                                                              "
     ]
    },
    {
     "name": "stdout",
     "output_type": "stream",
     "text": [
      "Epoch 4 - Avg Loss: 0.2392 - Train NDCG: 0.9643 - Dev NDCG: 0.9244\n"
     ]
    },
    {
     "name": "stderr",
     "output_type": "stream",
     "text": [
      "                                                                                                                                                                                                                                                                                                                              "
     ]
    },
    {
     "name": "stdout",
     "output_type": "stream",
     "text": [
      "Epoch 5 - Avg Loss: 0.2197 - Train NDCG: 0.9716 - Dev NDCG: 0.9219\n"
     ]
    },
    {
     "name": "stderr",
     "output_type": "stream",
     "text": [
      "                                                                                                                                                                                                                                                                                                                              "
     ]
    },
    {
     "name": "stdout",
     "output_type": "stream",
     "text": [
      "Epoch 6 - Avg Loss: 0.1880 - Train NDCG: 0.9730 - Dev NDCG: 0.9302\n"
     ]
    },
    {
     "name": "stderr",
     "output_type": "stream",
     "text": [
      "                                                                                                                                                                                                                                                                                                                              "
     ]
    },
    {
     "name": "stdout",
     "output_type": "stream",
     "text": [
      "Epoch 7 - Avg Loss: 0.1486 - Train NDCG: 0.9764 - Dev NDCG: 0.9275\n"
     ]
    },
    {
     "name": "stderr",
     "output_type": "stream",
     "text": [
      "                                                                                                                                                                                                                                                                                                                              "
     ]
    },
    {
     "name": "stdout",
     "output_type": "stream",
     "text": [
      "Epoch 8 - Avg Loss: 0.1061 - Train NDCG: 0.9795 - Dev NDCG: 0.9265\n"
     ]
    },
    {
     "name": "stderr",
     "output_type": "stream",
     "text": [
      "                                                                                                                                                                                                                                                                                                                              "
     ]
    },
    {
     "name": "stdout",
     "output_type": "stream",
     "text": [
      "Epoch 9 - Avg Loss: 0.0666 - Train NDCG: 0.9785 - Dev NDCG: 0.9305\n"
     ]
    },
    {
     "name": "stderr",
     "output_type": "stream",
     "text": [
      "                                                                                                                                                                                                                                                                                                                              "
     ]
    },
    {
     "name": "stdout",
     "output_type": "stream",
     "text": [
      "Epoch 10 - Avg Loss: 0.0420 - Train NDCG: 0.9783 - Dev NDCG: 0.9317\n"
     ]
    },
    {
     "name": "stderr",
     "output_type": "stream",
     "text": [
      "                                                                                                                                                                                                                                                                                                                              "
     ]
    },
    {
     "name": "stdout",
     "output_type": "stream",
     "text": [
      "Epoch 11 - Avg Loss: 0.0248 - Train NDCG: 0.9748 - Dev NDCG: 0.9196\n"
     ]
    },
    {
     "name": "stderr",
     "output_type": "stream",
     "text": [
      "                                                                                                                                                                                                                                                                                                                              "
     ]
    },
    {
     "name": "stdout",
     "output_type": "stream",
     "text": [
      "Epoch 12 - Avg Loss: 0.0138 - Train NDCG: 0.9739 - Dev NDCG: 0.9245\n"
     ]
    },
    {
     "name": "stderr",
     "output_type": "stream",
     "text": [
      "                                                                                                                                                                                                                                                                                                                           "
     ]
    },
    {
     "name": "stdout",
     "output_type": "stream",
     "text": [
      "Epoch 13 - Avg Loss: 0.0092 - Train NDCG: 0.9732 - Dev NDCG: 0.9216\n",
      "Early stopping at epoch 13 (no improvement in 3 epochs)\n"
     ]
    },
    {
     "data": {
      "text/plain": [
       "'rank2_cosine_best.pt'"
      ]
     },
     "execution_count": 53,
     "metadata": {},
     "output_type": "execute_result"
    }
   ],
   "source": [
    "model = CLIPModel.from_pretrained(\"openai/clip-vit-base-patch32\")\n",
    "processor = CLIPProcessor.from_pretrained(\"openai/clip-vit-base-patch32\")\n",
    "rank = 2\n",
    "lora_config = LoraConfig(\n",
    "    r=rank,\n",
    "    lora_alpha=2*rank,\n",
    "    target_modules=[\"q_proj\", \"v_proj\"]\n",
    ")\n",
    "train_dataset = TripletDataset(train_df, gloss_cache_train)\n",
    "model5 = get_peft_model(model, lora_config)\n",
    "train(model5, train_dataset, use_cosine = True,model_name =\"rank2_cosine\")"
   ]
  },
  {
   "cell_type": "markdown",
   "id": "1ff6e2c0-b782-4e6a-85b9-d0fb7f48cad0",
   "metadata": {},
   "source": [
    "### Train model with rank 2 and triplet loss using Euclidean"
   ]
  },
  {
   "cell_type": "code",
   "execution_count": 50,
   "id": "68e161b1-7fbc-4ba9-8d37-86a8150c5b4e",
   "metadata": {
    "scrolled": true
   },
   "outputs": [
    {
     "name": "stderr",
     "output_type": "stream",
     "text": [
      "                                                                                                                                                                                                                                                                                                                           "
     ]
    },
    {
     "name": "stdout",
     "output_type": "stream",
     "text": [
      "Epoch 1 - Avg Loss: 0.2723 - Train NDCG: 0.9434 - Dev NDCG: 0.9217\n"
     ]
    },
    {
     "name": "stderr",
     "output_type": "stream",
     "text": [
      "                                                                                                                                                                                                                                                                                                                           "
     ]
    },
    {
     "name": "stdout",
     "output_type": "stream",
     "text": [
      "Epoch 2 - Avg Loss: 0.2680 - Train NDCG: 0.9446 - Dev NDCG: 0.9211\n"
     ]
    },
    {
     "name": "stderr",
     "output_type": "stream",
     "text": [
      "                                                                                                                                                                                                                                                                                                                           "
     ]
    },
    {
     "name": "stdout",
     "output_type": "stream",
     "text": [
      "Epoch 3 - Avg Loss: 0.2620 - Train NDCG: 0.9533 - Dev NDCG: 0.9224\n"
     ]
    },
    {
     "name": "stderr",
     "output_type": "stream",
     "text": [
      "                                                                                                                                                                                                                                                                                                                           "
     ]
    },
    {
     "name": "stdout",
     "output_type": "stream",
     "text": [
      "Epoch 4 - Avg Loss: 0.2511 - Train NDCG: 0.9645 - Dev NDCG: 0.9220\n"
     ]
    },
    {
     "name": "stderr",
     "output_type": "stream",
     "text": [
      "                                                                                                                                                                                                                                                                                                                           "
     ]
    },
    {
     "name": "stdout",
     "output_type": "stream",
     "text": [
      "Epoch 5 - Avg Loss: 0.2357 - Train NDCG: 0.9716 - Dev NDCG: 0.9212\n"
     ]
    },
    {
     "name": "stderr",
     "output_type": "stream",
     "text": [
      "                                                                                                                                                                                                                                                                                                                           "
     ]
    },
    {
     "name": "stdout",
     "output_type": "stream",
     "text": [
      "Epoch 6 - Avg Loss: 0.2121 - Train NDCG: 0.9749 - Dev NDCG: 0.9237\n"
     ]
    },
    {
     "name": "stderr",
     "output_type": "stream",
     "text": [
      "                                                                                                                                                                                                                                                                                                                           "
     ]
    },
    {
     "name": "stdout",
     "output_type": "stream",
     "text": [
      "Epoch 7 - Avg Loss: 0.1826 - Train NDCG: 0.9765 - Dev NDCG: 0.9238\n"
     ]
    },
    {
     "name": "stderr",
     "output_type": "stream",
     "text": [
      "                                                                                                                                                                                                                                                                                                                              "
     ]
    },
    {
     "name": "stdout",
     "output_type": "stream",
     "text": [
      "Epoch 8 - Avg Loss: 0.1429 - Train NDCG: 0.9787 - Dev NDCG: 0.9201\n"
     ]
    },
    {
     "name": "stderr",
     "output_type": "stream",
     "text": [
      "                                                                                                                                                                                                                                                                                                                              "
     ]
    },
    {
     "name": "stdout",
     "output_type": "stream",
     "text": [
      "Epoch 9 - Avg Loss: 0.1015 - Train NDCG: 0.9769 - Dev NDCG: 0.9143\n"
     ]
    },
    {
     "name": "stderr",
     "output_type": "stream",
     "text": [
      "                                                                                                                                                                                                                                                                                                                              "
     ]
    },
    {
     "name": "stdout",
     "output_type": "stream",
     "text": [
      "Epoch 10 - Avg Loss: 0.0708 - Train NDCG: 0.9753 - Dev NDCG: 0.9183\n",
      "Early stopping at epoch 10 (no improvement in 3 epochs)\n"
     ]
    },
    {
     "data": {
      "text/plain": [
       "'rank2_euclidean_best.pt'"
      ]
     },
     "execution_count": 50,
     "metadata": {},
     "output_type": "execute_result"
    }
   ],
   "source": [
    "model = CLIPModel.from_pretrained(\"openai/clip-vit-base-patch32\")\n",
    "processor = CLIPProcessor.from_pretrained(\"openai/clip-vit-base-patch32\")\n",
    "rank = 2\n",
    "lora_config = LoraConfig(\n",
    "    r=rank,\n",
    "    lora_alpha=2*rank,\n",
    "    target_modules=[\"q_proj\", \"v_proj\"]\n",
    ")\n",
    "train_dataset = TripletDataset(train_df, gloss_cache_train)\n",
    "model6 = get_peft_model(model, lora_config)\n",
    "train(model6, train_dataset, use_cosine = False, model_name =\"rank2_euclidean\")"
   ]
  },
  {
   "cell_type": "markdown",
   "id": "8d52b62b-2747-43ca-9aa1-6f3d11406840",
   "metadata": {},
   "source": [
    "### Train model with rank 1 and triplet loss using Cosine"
   ]
  },
  {
   "cell_type": "code",
   "execution_count": 44,
   "id": "e1ac4cf6-d727-42f3-995a-92b8c7a8eabe",
   "metadata": {},
   "outputs": [
    {
     "name": "stderr",
     "output_type": "stream",
     "text": [
      "                                                                                                                                                                                                                                                                                                                           "
     ]
    },
    {
     "name": "stdout",
     "output_type": "stream",
     "text": [
      "Epoch 1 - Avg Loss: 0.2665 - Train NDCG: 0.9391 - Dev NDCG: 0.9175\n"
     ]
    },
    {
     "name": "stderr",
     "output_type": "stream",
     "text": [
      "                                                                                                                                                                                                                                                                                                                           "
     ]
    },
    {
     "name": "stdout",
     "output_type": "stream",
     "text": [
      "Epoch 2 - Avg Loss: 0.2639 - Train NDCG: 0.9435 - Dev NDCG: 0.9193\n"
     ]
    },
    {
     "name": "stderr",
     "output_type": "stream",
     "text": [
      "                                                                                                                                                                                                                                                                                                                           "
     ]
    },
    {
     "name": "stdout",
     "output_type": "stream",
     "text": [
      "Epoch 3 - Avg Loss: 0.2604 - Train NDCG: 0.9471 - Dev NDCG: 0.9211\n"
     ]
    },
    {
     "name": "stderr",
     "output_type": "stream",
     "text": [
      "                                                                                                                                                                                                                                                                                                                           "
     ]
    },
    {
     "name": "stdout",
     "output_type": "stream",
     "text": [
      "Epoch 4 - Avg Loss: 0.2541 - Train NDCG: 0.9498 - Dev NDCG: 0.9199\n"
     ]
    },
    {
     "name": "stderr",
     "output_type": "stream",
     "text": [
      "                                                                                                                                                                                                                                                                                                                           "
     ]
    },
    {
     "name": "stdout",
     "output_type": "stream",
     "text": [
      "Epoch 5 - Avg Loss: 0.2458 - Train NDCG: 0.9580 - Dev NDCG: 0.9216\n"
     ]
    },
    {
     "name": "stderr",
     "output_type": "stream",
     "text": [
      "                                                                                                                                                                                                                                                                                                                           "
     ]
    },
    {
     "name": "stdout",
     "output_type": "stream",
     "text": [
      "Epoch 6 - Avg Loss: 0.2318 - Train NDCG: 0.9668 - Dev NDCG: 0.9225\n"
     ]
    },
    {
     "name": "stderr",
     "output_type": "stream",
     "text": [
      "                                                                                                                                                                                                                                                                                                                           "
     ]
    },
    {
     "name": "stdout",
     "output_type": "stream",
     "text": [
      "Epoch 7 - Avg Loss: 0.2140 - Train NDCG: 0.9719 - Dev NDCG: 0.9200\n"
     ]
    },
    {
     "name": "stderr",
     "output_type": "stream",
     "text": [
      "                                                                                                                                                                                                                                                                                                                           "
     ]
    },
    {
     "name": "stdout",
     "output_type": "stream",
     "text": [
      "Epoch 8 - Avg Loss: 0.1881 - Train NDCG: 0.9749 - Dev NDCG: 0.9253\n"
     ]
    },
    {
     "name": "stderr",
     "output_type": "stream",
     "text": [
      "                                                                                                                                                                                                                                                                                                                           "
     ]
    },
    {
     "name": "stdout",
     "output_type": "stream",
     "text": [
      "Epoch 9 - Avg Loss: 0.1592 - Train NDCG: 0.9758 - Dev NDCG: 0.9229\n"
     ]
    },
    {
     "name": "stderr",
     "output_type": "stream",
     "text": [
      "                                                                                                                                                                                                                                                                                                                           "
     ]
    },
    {
     "name": "stdout",
     "output_type": "stream",
     "text": [
      "Epoch 10 - Avg Loss: 0.1240 - Train NDCG: 0.9751 - Dev NDCG: 0.9225\n"
     ]
    },
    {
     "name": "stderr",
     "output_type": "stream",
     "text": [
      "                                                                                                                                                                                                                                                                                                                           "
     ]
    },
    {
     "name": "stdout",
     "output_type": "stream",
     "text": [
      "Epoch 11 - Avg Loss: 0.0929 - Train NDCG: 0.9772 - Dev NDCG: 0.9248\n",
      "Early stopping at epoch 11 (no improvement in 3 epochs)\n"
     ]
    },
    {
     "data": {
      "text/plain": [
       "'rank1_cosine_best.pt'"
      ]
     },
     "execution_count": 44,
     "metadata": {},
     "output_type": "execute_result"
    }
   ],
   "source": [
    "model = CLIPModel.from_pretrained(\"openai/clip-vit-base-patch32\")\n",
    "processor = CLIPProcessor.from_pretrained(\"openai/clip-vit-base-patch32\")\n",
    "rank = 1\n",
    "lora_config = LoraConfig(\n",
    "    r=rank,\n",
    "    lora_alpha=2*rank,\n",
    "    target_modules=[\"q_proj\", \"v_proj\"]\n",
    ")\n",
    "train_dataset = TripletDataset(train_df, gloss_cache_train)\n",
    "model7 = get_peft_model(model, lora_config)\n",
    "train(model7, train_dataset, use_cosine = True, model_name =\"rank1_cosine\")"
   ]
  },
  {
   "cell_type": "markdown",
   "id": "f2649e92-8698-462f-a1bf-a0647e1e08f0",
   "metadata": {},
   "source": [
    "### Train model with rank 1 and triplet loss using Euclidean"
   ]
  },
  {
   "cell_type": "code",
   "execution_count": 47,
   "id": "41bfa9dc-ef34-4f6a-b2a4-71013e92e341",
   "metadata": {},
   "outputs": [
    {
     "name": "stderr",
     "output_type": "stream",
     "text": [
      "                                                                                                                                                                                                                                                                                                                           "
     ]
    },
    {
     "name": "stdout",
     "output_type": "stream",
     "text": [
      "Epoch 1 - Avg Loss: 0.2664 - Train NDCG: 0.9395 - Dev NDCG: 0.9175\n"
     ]
    },
    {
     "name": "stderr",
     "output_type": "stream",
     "text": [
      "                                                                                                                                                                                                                                                                                                                           "
     ]
    },
    {
     "name": "stdout",
     "output_type": "stream",
     "text": [
      "Epoch 2 - Avg Loss: 0.2630 - Train NDCG: 0.9436 - Dev NDCG: 0.9196\n"
     ]
    },
    {
     "name": "stderr",
     "output_type": "stream",
     "text": [
      "                                                                                                                                                                                                                                                                                                                           "
     ]
    },
    {
     "name": "stdout",
     "output_type": "stream",
     "text": [
      "Epoch 3 - Avg Loss: 0.2601 - Train NDCG: 0.9453 - Dev NDCG: 0.9211\n"
     ]
    },
    {
     "name": "stderr",
     "output_type": "stream",
     "text": [
      "                                                                                                                                                                                                                                                                                                                           "
     ]
    },
    {
     "name": "stdout",
     "output_type": "stream",
     "text": [
      "Epoch 4 - Avg Loss: 0.2532 - Train NDCG: 0.9526 - Dev NDCG: 0.9216\n"
     ]
    },
    {
     "name": "stderr",
     "output_type": "stream",
     "text": [
      "                                                                                                                                                                                                                                                                                                                           "
     ]
    },
    {
     "name": "stdout",
     "output_type": "stream",
     "text": [
      "Epoch 5 - Avg Loss: 0.2432 - Train NDCG: 0.9580 - Dev NDCG: 0.9240\n"
     ]
    },
    {
     "name": "stderr",
     "output_type": "stream",
     "text": [
      "                                                                                                                                                                                                                                                                                                                           "
     ]
    },
    {
     "name": "stdout",
     "output_type": "stream",
     "text": [
      "Epoch 6 - Avg Loss: 0.2314 - Train NDCG: 0.9655 - Dev NDCG: 0.9257\n"
     ]
    },
    {
     "name": "stderr",
     "output_type": "stream",
     "text": [
      "                                                                                                                                                                                                                                                                                                                           "
     ]
    },
    {
     "name": "stdout",
     "output_type": "stream",
     "text": [
      "Epoch 7 - Avg Loss: 0.2132 - Train NDCG: 0.9708 - Dev NDCG: 0.9200\n"
     ]
    },
    {
     "name": "stderr",
     "output_type": "stream",
     "text": [
      "                                                                                                                                                                                                                                                                                                                           "
     ]
    },
    {
     "name": "stdout",
     "output_type": "stream",
     "text": [
      "Epoch 8 - Avg Loss: 0.1880 - Train NDCG: 0.9728 - Dev NDCG: 0.9241\n"
     ]
    },
    {
     "name": "stderr",
     "output_type": "stream",
     "text": [
      "                                                                                                                                                                                                                                                                                                                           "
     ]
    },
    {
     "name": "stdout",
     "output_type": "stream",
     "text": [
      "Epoch 9 - Avg Loss: 0.1595 - Train NDCG: 0.9765 - Dev NDCG: 0.9249\n",
      "Early stopping at epoch 9 (no improvement in 3 epochs)\n"
     ]
    },
    {
     "data": {
      "text/plain": [
       "'rank1_euclidean_best.pt'"
      ]
     },
     "execution_count": 47,
     "metadata": {},
     "output_type": "execute_result"
    }
   ],
   "source": [
    "model = CLIPModel.from_pretrained(\"openai/clip-vit-base-patch32\")\n",
    "processor = CLIPProcessor.from_pretrained(\"openai/clip-vit-base-patch32\")\n",
    "rank = 1\n",
    "lora_config = LoraConfig(\n",
    "    r=rank,\n",
    "    lora_alpha=2*rank,\n",
    "    target_modules=[\"q_proj\", \"v_proj\"]\n",
    ")\n",
    "train_dataset = TripletDataset(train_df, gloss_cache_train)\n",
    "model8 = get_peft_model(model, lora_config)\n",
    "train(model8, train_dataset, use_cosine = True, model_name =\"rank1_euclidean\")"
   ]
  },
  {
   "cell_type": "markdown",
   "id": "f5429075-c4a2-419a-ba16-2817b5ed0256",
   "metadata": {},
   "source": [
    "### Generating results and plots"
   ]
  },
  {
   "cell_type": "code",
   "execution_count": 61,
   "id": "1ebe1833-f5c6-44bf-842b-f7e227af41ce",
   "metadata": {},
   "outputs": [
    {
     "data": {
      "image/png": "[encoded data removed]",
      "text/plain": [
       "<Figure size 1400x700 with 1 Axes>"
      ]
     },
     "metadata": {},
     "output_type": "display_data"
    }
   ],
   "source": [
    "csv_configs = [\n",
    "    (\"rank1_cosine_log.csv\", \"Rank 1 - Cosine\"),\n",
    "    (\"rank2_cosine_log.csv\", \"Rank 2 - Cosine\"),\n",
    "    (\"rank4_cosine_log.csv\", \"Rank 4 - Cosine\"),\n",
    "    (\"rank8_cosine_log.csv\", \"Rank 8 - Cosine\"),\n",
    "    (\"rank1_euclidean_log.csv\", \"Rank 1 - Euclidean\"),\n",
    "    (\"rank2_euclidean_log.csv\", \"Rank 2 - Euclidean\"),\n",
    "    (\"rank4_euclidean_log.csv\", \"Rank 4 - Euclidean\"),\n",
    "    (\"rank8_euclidean_log.csv\", \"Rank 8 - Euclidean\"),\n",
    "]\n",
    "\n",
    "plt.figure(figsize=(14, 7))\n",
    "\n",
    "for filepath, label in csv_configs:\n",
    "    df = pd.read_csv(filepath)\n",
    "    plt.plot(df[\"epoch\"], df[\"train_ndcg\"], linestyle='--', marker='o', label=f\"{label} - Train\")\n",
    "    plt.plot(df[\"epoch\"], df[\"dev_ndcg\"], linestyle='-', marker='s', label=f\"{label} - Dev\")\n",
    "\n",
    "plt.title(\"Train and Dev NDCG for All Configurations\")\n",
    "plt.xlabel(\"Epoch\")\n",
    "plt.ylabel(\"NDCG\")\n",
    "plt.legend(loc=\"lower right\", fontsize=8)\n",
    "plt.grid(True)\n",
    "plt.tight_layout()\n",
    "plt.show()"
   ]
  },
  {
   "cell_type": "code",
   "execution_count": null,
   "id": "d141e2b7-c1ef-4b21-9055-86226d401786",
   "metadata": {},
   "outputs": [],
   "source": [
    "csv_configs = [\n",
    "    (\"rank1_cosine_log.csv\", \"Rank 1 - Cosine\"),\n",
    "    (\"rank2_cosine_log.csv\", \"Rank 2 - Cosine\"),\n",
    "    (\"rank4_cosine_log.csv\", \"Rank 4 - Cosine\"),\n",
    "    (\"rank8_cosine_log.csv\", \"Rank 8 - Cosine\"),\n",
    "    (\"rank1_euclidean_log.csv\", \"Rank 1 - Euclidean\"),\n",
    "    (\"rank2_euclidean_log.csv\", \"Rank 2 - Euclidean\"),\n",
    "    (\"rank4_euclidean_log.csv\", \"Rank 4 - Euclidean\"),\n",
    "    (\"rank8_euclidean_log.csv\", \"Rank 8 - Euclidean\"),\n",
    "]\n",
    "\n",
    "rank_configs = {1: [], 2: [], 4: [], 8: []}\n",
    "\n",
    "for path, label in csv_configs:\n",
    "    if \"rank1\" in path:\n",
    "        rank_configs[1].append((path, label))\n",
    "    elif \"rank2\" in path:\n",
    "        rank_configs[2].append((path, label))\n",
    "    elif \"rank4\" in path:\n",
    "        rank_configs[4].append((path, label))\n",
    "    elif \"rank8\" in path:\n",
    "        rank_configs[8].append((path, label))\n",
    "\n",
    "for rank in sorted(rank_configs.keys()):\n",
    "    plt.figure(figsize=(10, 5))\n",
    "    \n",
    "    for filepath, label in rank_configs[rank]:\n",
    "        df = pd.read_csv(filepath)\n",
    "        plt.plot(df[\"epoch\"], df[\"train_ndcg\"], linestyle='--', marker='o', label=f\"{label} - Train\")\n",
    "        plt.plot(df[\"epoch\"], df[\"dev_ndcg\"], linestyle='-', marker='s', label=f\"{label} - Dev\")\n",
    "    \n",
    "    plt.title(f\"Rank {rank}: Train & Dev NDCG (Cosine vs Euclidean)\")\n",
    "    plt.xlabel(\"Epoch\")\n",
    "    plt.ylabel(\"NDCG\")\n",
    "    plt.legend(loc=\"lower right\", fontsize=8)\n",
    "    plt.grid(True)\n",
    "    plt.tight_layout()\n",
    "    \n",
    "    filename = f\"rank{rank}_ndcg_plot.png\"\n",
    "    plt.savefig(filename)\n",
    "    plt.close()"
   ]
  },
  {
   "cell_type": "code",
   "execution_count": null,
   "id": "8a0ebee8-54ca-49c9-a45e-ceff8d1dc4cd",
   "metadata": {},
   "outputs": [],
   "source": [
    "csv_configs = [\n",
    "    (\"rank1_cosine_log.csv\", \"Rank 1 - Cosine\"),\n",
    "    (\"rank2_cosine_log.csv\", \"Rank 2 - Cosine\"),\n",
    "    (\"rank4_cosine_log.csv\", \"Rank 4 - Cosine\"),\n",
    "    (\"rank8_cosine_log.csv\", \"Rank 8 - Cosine\"),\n",
    "    (\"rank1_euclidean_log.csv\", \"Rank 1 - Euclidean\"),\n",
    "    (\"rank2_euclidean_log.csv\", \"Rank 2 - Euclidean\"),\n",
    "    (\"rank4_euclidean_log.csv\", \"Rank 4 - Euclidean\"),\n",
    "    (\"rank8_euclidean_log.csv\", \"Rank 8 - Euclidean\"),\n",
    "]\n",
    "\n",
    "rank_configs = {1: [], 2: [], 4: [], 8: []}\n",
    "\n",
    "for path, label in csv_configs:\n",
    "    if \"rank1\" in path:\n",
    "        rank_configs[1].append((path, label))\n",
    "    elif \"rank2\" in path:\n",
    "        rank_configs[2].append((path, label))\n",
    "    elif \"rank4\" in path:\n",
    "        rank_configs[4].append((path, label))\n",
    "    elif \"rank8\" in path:\n",
    "        rank_configs[8].append((path, label))\n",
    "\n",
    "fig, axes = plt.subplots(2, 2, figsize=(14, 10))\n",
    "rank_order = [1, 2, 4, 8]\n",
    "\n",
    "for ax, rank in zip(axes.flat, rank_order):\n",
    "    for filepath, label in rank_configs[rank]:\n",
    "        df = pd.read_csv(filepath)\n",
    "        ax.plot(df[\"epoch\"], df[\"avg_loss\"], marker='o', label=label)\n",
    "    \n",
    "    ax.set_title(f\"Rank {rank}: Avg Loss per Epoch\")\n",
    "    ax.set_xlabel(\"Epoch\")\n",
    "    ax.set_ylabel(\"Average Loss\")\n",
    "    ax.grid(True)\n",
    "    ax.legend(fontsize=8, loc=\"upper right\")\n",
    "\n",
    "plt.tight_layout()\n",
    "plt.savefig(\"avg_loss_all_ranks_2x2.png\")\n",
    "plt.close()"
   ]
  },
  {
   "cell_type": "code",
   "execution_count": null,
   "id": "df02cf78-3c14-4785-9759-93a531566a28",
   "metadata": {},
   "outputs": [],
   "source": [
    "model_configs = [\n",
    "    (\"rank1_cosine_best.pt\", \"Rank 1 - Cosine\", 1, True),\n",
    "    (\"rank2_cosine_best.pt\", \"Rank 2 - Cosine\", 2, True),\n",
    "    (\"rank4_cosine_best.pt\", \"Rank 4 - Cosine\", 4, True),\n",
    "    (\"rank8_cosine_best.pt\", \"Rank 8 - Cosine\", 8, True),\n",
    "    (\"rank1_euclidean_best.pt\", \"Rank 1 - Euclidean\", 1, False),\n",
    "    (\"rank2_euclidean_best.pt\", \"Rank 2 - Euclidean\", 2, False),\n",
    "    (\"rank4_euclidean_best.pt\", \"Rank 4 - Euclidean\", 4, False),\n",
    "    (\"rank8_euclidean_best.pt\", \"Rank 8 - Euclidean\", 8, False),\n",
    "]\n",
    "\n",
    "results = []\n",
    "\n",
    "for model_path, label, rank, use_cosine in model_configs:\n",
    "    base_model = CLIPModel.from_pretrained(\"openai/clip-vit-base-patch32\")\n",
    "    lora_config = LoraConfig(\n",
    "        r=rank,\n",
    "        lora_alpha=2 * rank,\n",
    "        target_modules=[\"q_proj\", \"v_proj\"]\n",
    "    )\n",
    "    model = get_peft_model(base_model, lora_config)\n",
    "    model.load_state_dict(torch.load(model_path, map_location=\"cpu\"))\n",
    "    model.eval()\n",
    "\n",
    "    dev_acc = calculate_1pc_accuracy(dev_df, \"dev\", model, use_cosine=use_cosine, gloss_cache=gloss_cache_dev)\n",
    "    test_acc = calculate_1pc_accuracy(test_df, \"test\", model, use_cosine=use_cosine, gloss_cache=gloss_cache_test)\n",
    "\n",
    "    results.append({\n",
    "        \"Model\": label,\n",
    "        \"Dev 1pc Accuracy (%)\": round(dev_acc * 100, 2),\n",
    "        \"Test 1pc Accuracy (%)\": round(test_acc * 100, 2)\n",
    "    })\n",
    "\n",
    "accuracy_df = pd.DataFrame(results)\n",
    "accuracy_df.to_csv(\"1pc_accuracy_table.csv\", index=False)"
   ]
  }
 ],
 "metadata": {
  "kernelspec": {
   "display_name": "Python 3 (ipykernel)",
   "language": "python",
   "name": "python3"
  },
  "language_info": {
   "codemirror_mode": {
    "name": "ipython",
    "version": 3
   },
   "file_extension": ".py",
   "mimetype": "text/x-python",
   "name": "python",
   "nbconvert_exporter": "python",
   "pygments_lexer": "ipython3",
   "version": "3.12.4"
  }
 },
 "nbformat": 4,
 "nbformat_minor": 5
}
